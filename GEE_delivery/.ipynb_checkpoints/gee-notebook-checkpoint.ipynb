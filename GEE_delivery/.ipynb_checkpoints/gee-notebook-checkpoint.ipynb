{
 "cells": [
  {
   "cell_type": "markdown",
   "id": "naked-bronze",
   "metadata": {},
   "source": [
    "## Using Data and Orders API for GEE Delivery\n",
    "This notebook should allow the user to run a query based on the bounding box or geometry of interest and to perform checks at different stages. This should also allow for final checks before placing an order, and for delivery into Google Earth Engine post clipping the imagery\n",
    "\n",
    "*Useful resources*\n",
    "\n",
    "* [Item and asset type information](https://developers.planet.com/docs/apis/data/items-assets/)\n",
    "* [Concept of Product Bundles](https://developers.planet.com/docs/orders/product-bundles-reference/)\n",
    "* [Developer Docs for Ordersv2](https://developers.planet.com/docs/orders/)\n",
    "* [Planet GEE integration Docs](https://developers.planet.com/docs/integrations/gee/)"
   ]
  },
  {
   "cell_type": "code",
   "execution_count": 3,
   "id": "pacific-light",
   "metadata": {},
   "outputs": [],
   "source": [
    "### Import libraries\n",
    "import os\n",
    "import requests\n",
    "import json\n",
    "import sys"
   ]
  },
  {
   "cell_type": "markdown",
   "id": "rational-score",
   "metadata": {},
   "source": [
    "#### Get your API Key and run validity check\n",
    "This gets your API key and prompts you incase your API key is missing or if there are authentication issues"
   ]
  },
  {
   "cell_type": "code",
   "execution_count": 4,
   "id": "activated-lecture",
   "metadata": {},
   "outputs": [],
   "source": [
    "## Get your API Key\n",
    "try:\n",
    "    PLANET_API_KEY = os.getenv('PL_API_KEY')\n",
    "except Exception as e:\n",
    "    print(\"Failed to get Planet Key: Try planet init or install Planet Command line tool\")\n",
    "    sys.exit()\n",
    "\n",
    "headers = {'Content-Type': 'application/json'}"
   ]
  },
  {
   "cell_type": "markdown",
   "id": "fifteen-landscape",
   "metadata": {},
   "source": [
    "#### Sample payload to clip items to AOI and download\n",
    "This is a cloud delivery payload anc includes clip to AOI before cloud delivery."
   ]
  },
  {
   "cell_type": "code",
   "execution_count": 5,
   "id": "constitutional-cookbook",
   "metadata": {},
   "outputs": [],
   "source": [
    "# Get area to use for clipping and create an order payload\n",
    "order_payload = {\n",
    "   \"name\":\"demo-psscene-28\",\n",
    "   \"order_type\":\"partial\", # the partial option here allows for an order to complete even if few items fail\n",
    "   \"products\":[  \n",
    "      {  \n",
    "         \"item_ids\":[\"20220226_065216_85_2251\"],\n",
    "         \"item_type\":\"PSScene\",\n",
    "         \"product_bundle\":\"analytic_8b_sr_udm2\"\n",
    "      }\n",
    "    ],\n",
    "    \"delivery\": {\n",
    "        \"google_earth_engine\": {\n",
    "            \"collection\": \"demo-ps\",\n",
    "            \"project\": \"planet-services-staging\"\n",
    "        }\n",
    "    }\n",
    "}"
   ]
  },
  {
   "cell_type": "code",
   "execution_count": 6,
   "id": "exterior-satellite",
   "metadata": {},
   "outputs": [
    {
     "name": "stdout",
     "output_type": "stream",
     "text": [
      "{\n",
      "  \"name\": \"demo-psscene-28\",\n",
      "  \"order_type\": \"partial\",\n",
      "  \"products\": [\n",
      "    {\n",
      "      \"item_ids\": [\n",
      "        \"20220226_065216_85_2251\"\n",
      "      ],\n",
      "      \"item_type\": \"PSScene\",\n",
      "      \"product_bundle\": \"analytic_8b_sr_udm2\"\n",
      "    }\n",
      "  ],\n",
      "  \"delivery\": {\n",
      "    \"google_earth_engine\": {\n",
      "      \"collection\": \"demo-ps\",\n",
      "      \"project\": \"planet-services-staging\"\n",
      "    }\n",
      "  }\n",
      "}\n"
     ]
    }
   ],
   "source": [
    "# optional print the order payload\n",
    "print(json.dumps(order_payload,indent=2))"
   ]
  },
  {
   "cell_type": "markdown",
   "id": "statutory-spouse",
   "metadata": {},
   "source": [
    "#### Place order\n",
    "It is possible for the ordersv2 API to not accept all items you are submitting so a quick check allows you to understand the number of items orders submitted to order and those accepted."
   ]
  },
  {
   "cell_type": "code",
   "execution_count": 5,
   "id": "imperial-faith",
   "metadata": {},
   "outputs": [
    {
     "name": "stdout",
     "output_type": "stream",
     "text": [
      "Submitted a total of 1 image ids: accepted a total of 1 ids\n",
      "Order URL: https://api.planet.com/compute/ops/orders/v2/90737270-40a3-4a95-a909-d7f1d5236297\n"
     ]
    }
   ],
   "source": [
    "## Place the order\n",
    "orders_url = 'https://api.planet.com/compute/ops/orders/v2'\n",
    "response = requests.post(orders_url, data=json.dumps(order_payload), auth=(PLANET_API_KEY, \"\"), headers=headers)\n",
    "if response.status_code==202:\n",
    "    order_id =response.json()['id']\n",
    "    url = f\"https://api.planet.com/compute/ops/orders/v2/{order_id}\"\n",
    "    feature_check = requests.get(url, auth=(PLANET_API_KEY, \"\"))\n",
    "    if feature_check.status_code==200:\n",
    "        order_url = f\"https://api.planet.com/compute/ops/orders/v2/{order_id}\"\n",
    "        print(f\"Submitted a total of 1 image ids: accepted a total of {len(feature_check.json()['products'][0]['item_ids'])} ids\")\n",
    "        print(f\"Order URL: https://api.planet.com/compute/ops/orders/v2/{order_id}\")\n",
    "else:\n",
    "    print(f'Failed with Exception code : {response.text}')"
   ]
  },
  {
   "cell_type": "markdown",
   "id": "a657bf9f",
   "metadata": {},
   "source": [
    "### Poll for Order Success"
   ]
  },
  {
   "cell_type": "code",
   "execution_count": null,
   "id": "collect-democrat",
   "metadata": {},
   "outputs": [
    {
     "name": "stdout",
     "output_type": "stream",
     "text": [
      "running\n"
     ]
    }
   ],
   "source": [
    "import time\n",
    "\n",
    "def poll_for_success(order_url, num_loops=30):\n",
    "    count = 0\n",
    "    while(count < num_loops):\n",
    "        count += 1\n",
    "        r = requests.get(order_url, auth=(PLANET_API_KEY, \"\"))\n",
    "        response = r.json()\n",
    "        state = response['state']\n",
    "        print(state)\n",
    "        end_states = ['success', 'failed', 'partial']\n",
    "        if state in end_states:\n",
    "            break\n",
    "        time.sleep(5)\n",
    "        \n",
    "poll_for_success(\"https://api.planet.com/compute/ops/orders/v2/90737270-40a3-4a95-a909-d7f1d5236297\")"
   ]
  },
  {
   "cell_type": "code",
   "execution_count": null,
   "id": "51e26dbf",
   "metadata": {},
   "outputs": [],
   "source": []
  }
 ],
 "metadata": {
  "kernelspec": {
   "display_name": "Python 3 (ipykernel)",
   "language": "python",
   "name": "python3"
  },
  "language_info": {
   "codemirror_mode": {
    "name": "ipython",
    "version": 3
   },
   "file_extension": ".py",
   "mimetype": "text/x-python",
   "name": "python",
   "nbconvert_exporter": "python",
   "pygments_lexer": "ipython3",
   "version": "3.9.13"
  }
 },
 "nbformat": 4,
 "nbformat_minor": 5
}
