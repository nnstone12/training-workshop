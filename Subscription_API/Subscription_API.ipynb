{
 "cells": [
  {
   "cell_type": "markdown",
   "id": "4f3b9f19",
   "metadata": {},
   "source": [
    "# Subscriptions API Training\n",
    "---"
   ]
  },
  {
   "cell_type": "markdown",
   "id": "ac469138",
   "metadata": {},
   "source": [
    "## Introduction\n",
    "----\n",
    "The Subscriptions API combines the capabilities of Planet Search, Processing, Delivery into a single API. With this API, users can subscribe to continuous delivery of the imagery and metadata, and imagery delivered as soon as its available.\n",
    "\n",
    "\n",
    "This tutorial notebook is an introduction to the Subscriptions API. Using simple Python code, it demonstrates creating, editing, and canceling a subscription. \n",
    "\n",
    "\n",
    "More information can be found in [Subscriptions API Documentation](https://developers.planet.com/docs/subscriptions/) in Planet's Developer Resource Center."
   ]
  },
  {
   "cell_type": "markdown",
   "id": "02d0691b",
   "metadata": {},
   "source": [
    "## Table of Contents\n",
    "\n",
    "1. Imports \n",
    "2. Authentication\n",
    "3. Requests example\n",
    "4. Create a subscription\n",
    "5. Edit a subscription\n",
    "6. Cancel a subscription\n",
    "7. Get info on subscription\n",
    "---"
   ]
  },
  {
   "cell_type": "markdown",
   "id": "b7941ae0",
   "metadata": {},
   "source": [
    "### 1. Import required modules\n",
    "You'll need the following python packages to run this code:"
   ]
  },
  {
   "cell_type": "code",
   "execution_count": 60,
   "id": "2e3263aa",
   "metadata": {},
   "outputs": [],
   "source": [
    "from requests.auth import HTTPBasicAuth\n",
    "import requests\n",
    "import os\n",
    "import json\n",
    "import itertools\n",
    "from datetime import datetime, timedelta, timezone\n",
    "import time\n",
    "import glob\n",
    "import pytz"
   ]
  },
  {
   "cell_type": "markdown",
   "id": "ae7f8ec1",
   "metadata": {},
   "source": [
    "### 2. Authentication\n",
    "\n",
    "Authentication with the Planet Subscription API be achieved using a valid Planet **API key**."
   ]
  },
  {
   "cell_type": "code",
   "execution_count": 61,
   "id": "9371e887",
   "metadata": {},
   "outputs": [],
   "source": [
    "# API Key stored as an env variable or simply replace os.getenv('') by your API key\n",
    "PLANET_API_KEY = os.getenv('PL_API_KEY')"
   ]
  },
  {
   "cell_type": "code",
   "execution_count": 62,
   "id": "18d8c2b5",
   "metadata": {},
   "outputs": [],
   "source": [
    "subscriptions_url = \"https://api.planet.com/subscriptions/v1\""
   ]
  },
  {
   "cell_type": "markdown",
   "id": "f9ab3018",
   "metadata": {},
   "source": [
    "#### Curl Example\n",
    "\n",
    "\n",
    "To check your orders list and make sure you have the permissions you need, uncomment the following line to run ```curl```"
   ]
  },
  {
   "cell_type": "code",
   "execution_count": 63,
   "id": "f31ab718",
   "metadata": {},
   "outputs": [],
   "source": [
    "#!curl -L -H \"Authorization: api-key $PLANET_API_KEY\" $subscriptions_url"
   ]
  },
  {
   "cell_type": "markdown",
   "id": "d6accfef",
   "metadata": {},
   "source": [
    "### 3. Requests example\n",
    "\n",
    "In this notebook, we will be using `requests` to communicate with the Subscriptions API. First, we will check our orders list to make sure authentication and communication is working as expected.\n",
    "\n",
    "We want to get a response code of `200` from this API call. To troubleshoot other response codes, see the [List Orders](https://developers.planet.com/docs/orders/reference/#operation/listOrders) AOI reference.\n",
    "\n",
    "If you recieve a `401` make sure that you correclty entered your API key"
   ]
  },
  {
   "cell_type": "code",
   "execution_count": 64,
   "id": "d4f97d43",
   "metadata": {},
   "outputs": [
    {
     "data": {
      "text/plain": [
       "<Response [200]>"
      ]
     },
     "execution_count": 64,
     "metadata": {},
     "output_type": "execute_result"
    }
   ],
   "source": [
    "auth = HTTPBasicAuth(PLANET_API_KEY, '')\n",
    "response = requests.get(subscriptions_url, auth=auth)\n",
    "response"
   ]
  },
  {
   "cell_type": "markdown",
   "id": "befc3f0d",
   "metadata": {},
   "source": [
    "Now we will list the subscriptions we have created thus far. Your list may be empty if you have not created any subscriptions yet.\n"
   ]
  },
  {
   "cell_type": "code",
   "execution_count": 65,
   "id": "1006f164",
   "metadata": {},
   "outputs": [
    {
     "data": {
      "text/plain": [
       "8"
      ]
     },
     "execution_count": 65,
     "metadata": {},
     "output_type": "execute_result"
    }
   ],
   "source": [
    "subscriptions = response.json()['subscriptions']\n",
    "len(subscriptions)"
   ]
  },
  {
   "cell_type": "markdown",
   "id": "069e6a14",
   "metadata": {},
   "source": [
    "### 4. Creating a Subscription\n",
    "\n",
    "\n",
    "This example creates a subscription that will deliver imagery between March and October for 2021, 2022, and 2023 over Tokyo.\n",
    "\n",
    "In this subscription we request a PSScene of the ortho_analytic_4b asset type. The subscription delivers to google cloud bucket, but other cloud delivery options are explained [Here](https://developers.planet.com/docs/subscriptions/delivery/)"
   ]
  },
  {
   "cell_type": "code",
   "execution_count": 66,
   "id": "11dc73f8",
   "metadata": {},
   "outputs": [],
   "source": [
    "# set content type to json\n",
    "headers = {'content-type': 'application/json'}\n",
    "\n",
    "# set your delivery details\n",
    "BUCKET_NAME = 'name of bucket'\n",
    "GCS_CREDENTIALS= \"credentials string\""
   ]
  },
  {
   "cell_type": "markdown",
   "id": "a304bd85",
   "metadata": {},
   "source": [
    "#### Creating Request"
   ]
  },
  {
   "cell_type": "code",
   "execution_count": 67,
   "id": "43037f31",
   "metadata": {},
   "outputs": [],
   "source": [
    "request = {\n",
    "    \"name\": \"Recurring Subscription\",\n",
    "    \"source\": {\n",
    "        \"type\": \"catalog\",\n",
    "        \"parameters\": {\n",
    "            \"geometry\": {\n",
    "                \"coordinates\": [[[139.5648193359375,35.42374884923695],\n",
    "                                [140.1031494140625,35.42374884923695],\n",
    "                                [140.1031494140625,35.77102915686019],\n",
    "                                [139.5648193359375,35.77102915686019],\n",
    "                                [139.5648193359375,35.42374884923695]]],\n",
    "                \"type\": \"Polygon\"\n",
    "            },\n",
    "            \"start_time\": \"2022-03-01T00:00:00Z\",\n",
    "            \"end_time\": \"2023-11-01T00:00:00Z\",\n",
    "            \"rrule\": \"FREQ=MONTHLY;BYMONTH=3,4,5,6,7,8,9,10\",\n",
    "            \"item_types\": [\"PSScene\"],\n",
    "            \"asset_types\": [\"ortho_analytic_4b\"]\n",
    "        }\n",
    "    },\n",
    "    \"delivery\": { \n",
    "        \"type\": \"google_cloud_storage\",\n",
    "        \"parameters\": {\n",
    "            \"bucket\": BUCKET_NAME,\n",
    "            \"credentials\": GCS_CREDENTIALS,\n",
    "                \n",
    "        }\n",
    "    }\n",
    "}"
   ]
  },
  {
   "cell_type": "code",
   "execution_count": 68,
   "id": "221d453f",
   "metadata": {},
   "outputs": [],
   "source": [
    "def place_subscription(request, auth):\n",
    "    response = requests.post(subscriptions_url, data=json.dumps(request), auth=auth, headers=headers)\n",
    "    print(response)\n",
    "    subscriptions_id = response.json()['id']\n",
    "    print(subscriptions_id)\n",
    "    subscription_url = subscriptions_url + '/' + subscriptions_id\n",
    "    return subscription_url"
   ]
  },
  {
   "cell_type": "markdown",
   "id": "9fa8fa52",
   "metadata": {},
   "source": [
    "If you are getting errors due to your request try replacing print(response) with print(response.json()) to get a better idea of the issue."
   ]
  },
  {
   "cell_type": "code",
   "execution_count": 69,
   "id": "4cfebd2d",
   "metadata": {},
   "outputs": [
    {
     "name": "stdout",
     "output_type": "stream",
     "text": [
      "<Response [200]>\n",
      "284f35d8-1723-4d14-8270-81d7773939b0\n"
     ]
    }
   ],
   "source": [
    "subscription_url = place_subscription(request, auth)"
   ]
  },
  {
   "cell_type": "markdown",
   "id": "727e6e13",
   "metadata": {},
   "source": [
    "### 5. Edit a Subscription\n",
    "\n",
    "When a subscription is in `pending` state, it may be edited in full. After the subscription transitions to `running`, the following source block edits will be disallowed:\n",
    "\n",
    "  * Changes to `item_types`\n",
    "  * Changes to `start_time` values\n",
    "\n",
    "If you want to use access a different subscription you can use step <b>7. Get Info on Subscription</b> to print the ID's and paste those into the url"
   ]
  },
  {
   "cell_type": "code",
   "execution_count": 70,
   "id": "5b2f2fc3",
   "metadata": {},
   "outputs": [
    {
     "data": {
      "text/plain": [
       "'preparing'"
      ]
     },
     "execution_count": 70,
     "metadata": {},
     "output_type": "execute_result"
    }
   ],
   "source": [
    "# report order state\n",
    "#subscription_url = \"https://api.planet.com/subscriptions/v1/SUB_ID\"\n",
    "requests.get(subscription_url, auth=auth).json()['status']"
   ]
  },
  {
   "cell_type": "markdown",
   "id": "8687f385",
   "metadata": {},
   "source": [
    "Check the perameters that you wish to edit, in this case the `\"end_time\"`"
   ]
  },
  {
   "cell_type": "code",
   "execution_count": 71,
   "id": "2e9c4872",
   "metadata": {},
   "outputs": [
    {
     "name": "stdout",
     "output_type": "stream",
     "text": [
      "2023-11-01T00:00:00Z\n"
     ]
    }
   ],
   "source": [
    "print(request[\"source\"][\"parameters\"][\"end_time\"])\n",
    "with open('data.json', 'w') as f:\n",
    "    json.dump(request, f)"
   ]
  },
  {
   "cell_type": "markdown",
   "id": "bfde2a02",
   "metadata": {},
   "source": [
    "In this case lets edit the `\"end_time\"` of our request to 2024"
   ]
  },
  {
   "cell_type": "code",
   "execution_count": 72,
   "id": "67256e87",
   "metadata": {},
   "outputs": [
    {
     "data": {
      "text/plain": [
       "<Response [200]>"
      ]
     },
     "execution_count": 72,
     "metadata": {},
     "output_type": "execute_result"
    }
   ],
   "source": [
    "# PUT https://api.planet.com/subscriptions/v1/<subscription_id>\n",
    "request[\"source\"][\"parameters\"][\"end_time\"] = '2024-03-01T00:00:00Z'\n",
    "response = requests.put(subscription_url, json=request, auth=auth)\n",
    "response"
   ]
  },
  {
   "cell_type": "code",
   "execution_count": 78,
   "id": "1b1f465c",
   "metadata": {},
   "outputs": [
    {
     "data": {
      "text/plain": [
       "'2024-03-01T00:00:00Z'"
      ]
     },
     "execution_count": 78,
     "metadata": {},
     "output_type": "execute_result"
    }
   ],
   "source": [
    "response.json()[\"source\"][\"parameters\"][\"end_time\"]"
   ]
  },
  {
   "cell_type": "markdown",
   "id": "e6e7c6b0",
   "metadata": {},
   "source": [
    "### 6. Cancel a Subscription\n",
    "\n",
    "If you want to use access a different subscription you can use step <b>7. Get Info on Subscription</b> to print the ID's and paste those into the url"
   ]
  },
  {
   "cell_type": "code",
   "execution_count": 79,
   "id": "52214571",
   "metadata": {},
   "outputs": [
    {
     "name": "stdout",
     "output_type": "stream",
     "text": [
      "https://api.planet.com/subscriptions/v1/284f35d8-1723-4d14-8270-81d7773939b0\n"
     ]
    },
    {
     "data": {
      "text/plain": [
       "'pending'"
      ]
     },
     "execution_count": 79,
     "metadata": {},
     "output_type": "execute_result"
    }
   ],
   "source": [
    "# report order state\n",
    "#subscription_url = \"https://api.planet.com/subscriptions/v1/SUB_ID\"\n",
    "print(subscription_url)\n",
    "requests.get(subscription_url, auth=auth).json()['status']"
   ]
  },
  {
   "cell_type": "code",
   "execution_count": 80,
   "id": "cbe7c705",
   "metadata": {},
   "outputs": [
    {
     "data": {
      "text/plain": [
       "<Response [200]>"
      ]
     },
     "execution_count": 80,
     "metadata": {},
     "output_type": "execute_result"
    }
   ],
   "source": [
    "# POST https://api.planet.com/subscriptions/v1/<subscription_id>/cancel\n",
    "cancel_url = subscription_url + \"/cancel\"\n",
    "response = requests.post(cancel_url, auth=auth)\n",
    "response\n"
   ]
  },
  {
   "cell_type": "code",
   "execution_count": 81,
   "id": "84d5df0b",
   "metadata": {},
   "outputs": [
    {
     "data": {
      "text/plain": [
       "'cancelled'"
      ]
     },
     "execution_count": 81,
     "metadata": {},
     "output_type": "execute_result"
    }
   ],
   "source": [
    "# report order state - it could take a little while to cancel\n",
    "requests.get(subscription_url, auth=auth).json()['status']"
   ]
  },
  {
   "cell_type": "markdown",
   "id": "2ff2d886",
   "metadata": {},
   "source": [
    "### 7. Get Info on Subscriptions\n",
    "\n",
    "By placing a get command you will print all of your subscriptions. "
   ]
  },
  {
   "cell_type": "code",
   "execution_count": 82,
   "id": "919ccfdd",
   "metadata": {},
   "outputs": [
    {
     "data": {
      "text/plain": [
       "{'_links': {'_self': 'https://api.planet.com/subscriptions/v1'},\n",
       " 'subscriptions': [{'name': 'Recurring Subscription',\n",
       "   'source': {'type': 'catalog',\n",
       "    'parameters': {'asset_types': ['ortho_analytic_4b'],\n",
       "     'item_types': ['PSScene'],\n",
       "     'geometry': {'coordinates': [[[139.5648193359375, 35.42374884923695],\n",
       "        [140.1031494140625, 35.42374884923695],\n",
       "        [140.1031494140625, 35.77102915686019],\n",
       "        [139.5648193359375, 35.77102915686019],\n",
       "        [139.5648193359375, 35.42374884923695]]],\n",
       "      'type': 'Polygon'},\n",
       "     'start_time': '2022-03-01T00:00:00Z',\n",
       "     'end_time': '2024-03-01T00:00:00Z',\n",
       "     'rrule': 'FREQ=MONTHLY;BYMONTH=3,4,5,6,7,8,9,10'}},\n",
       "   'delivery': {'type': 'google_cloud_storage',\n",
       "    'parameters': {'bucket': 'subscriptions_api_demo',\n",
       "     'credentials': '<REDACTED>'}},\n",
       "   'created': '2022-01-18T18:59:55.726748Z',\n",
       "   '_links': {'_self': 'https://api.planet.com/subscriptions/v1/284f35d8-1723-4d14-8270-81d7773939b0'},\n",
       "   'status': 'cancelled',\n",
       "   'id': '284f35d8-1723-4d14-8270-81d7773939b0',\n",
       "   'updated': '2022-01-18T19:00:14.191396Z'},\n",
       "  {'name': 'Recurring Subscription',\n",
       "   'source': {'type': 'catalog',\n",
       "    'parameters': {'asset_types': ['ortho_analytic_4b'],\n",
       "     'item_types': ['PSScene'],\n",
       "     'geometry': {'coordinates': [[[139.5648193359375, 35.42374884923695],\n",
       "        [140.1031494140625, 35.42374884923695],\n",
       "        [140.1031494140625, 35.77102915686019],\n",
       "        [139.5648193359375, 35.77102915686019],\n",
       "        [139.5648193359375, 35.42374884923695]]],\n",
       "      'type': 'Polygon'},\n",
       "     'start_time': '2022-03-01T00:00:00Z',\n",
       "     'end_time': '2024-03-01T00:00:00Z',\n",
       "     'rrule': 'FREQ=MONTHLY;BYMONTH=3,4,5,6,7,8,9,10'}},\n",
       "   'delivery': {'type': 'google_cloud_storage',\n",
       "    'parameters': {'bucket': 'subscriptions_api_demo',\n",
       "     'credentials': '<REDACTED>'}},\n",
       "   'created': '2022-01-12T21:19:58.13626Z',\n",
       "   '_links': {'_self': 'https://api.planet.com/subscriptions/v1/3ca4297c-1dc2-4b43-ac2b-f7b30c2575b0'},\n",
       "   'status': 'cancelled',\n",
       "   'id': '3ca4297c-1dc2-4b43-ac2b-f7b30c2575b0',\n",
       "   'updated': '2022-01-18T18:21:02.30866Z'},\n",
       "  {'name': 'Recurring Subscription',\n",
       "   'source': {'type': 'catalog',\n",
       "    'parameters': {'asset_types': ['ortho_analytic_4b'],\n",
       "     'item_types': ['PSScene'],\n",
       "     'geometry': {'coordinates': [[[139.5648193359375, 35.42374884923695],\n",
       "        [140.1031494140625, 35.42374884923695],\n",
       "        [140.1031494140625, 35.77102915686019],\n",
       "        [139.5648193359375, 35.77102915686019],\n",
       "        [139.5648193359375, 35.42374884923695]]],\n",
       "      'type': 'Polygon'},\n",
       "     'start_time': '2022-03-01T00:00:00Z',\n",
       "     'end_time': '2023-11-01T00:00:00Z',\n",
       "     'rrule': 'FREQ=MONTHLY;BYMONTH=3,4,5,6,7,8,9,10'}},\n",
       "   'delivery': {'type': 'google_cloud_storage',\n",
       "    'parameters': {'bucket': 'subscriptions_api_demo',\n",
       "     'credentials': '<REDACTED>'}},\n",
       "   'created': '2022-01-06T16:23:35.585374Z',\n",
       "   '_links': {'_self': 'https://api.planet.com/subscriptions/v1/f27669da-1a25-41e2-8ab5-78defd03eac6'},\n",
       "   'status': 'cancelled',\n",
       "   'id': 'f27669da-1a25-41e2-8ab5-78defd03eac6',\n",
       "   'updated': '2022-01-06T16:23:49.348849Z'},\n",
       "  {'name': 'Recurring Subscription',\n",
       "   'source': {'type': 'catalog',\n",
       "    'parameters': {'asset_types': ['ortho_analytic_4b'],\n",
       "     'item_types': ['PSScene'],\n",
       "     'geometry': {'coordinates': [[[139.5648193359375, 35.42374884923695],\n",
       "        [140.1031494140625, 35.42374884923695],\n",
       "        [140.1031494140625, 35.77102915686019],\n",
       "        [139.5648193359375, 35.77102915686019],\n",
       "        [139.5648193359375, 35.42374884923695]]],\n",
       "      'type': 'Polygon'},\n",
       "     'start_time': '2021-03-01T00:00:00Z',\n",
       "     'end_time': '2023-11-01T00:00:00Z',\n",
       "     'rrule': 'FREQ=MONTHLY;BYMONTH=3,4,5,6,7,8,9,10'}},\n",
       "   'delivery': {'type': 'google_cloud_storage',\n",
       "    'parameters': {'bucket': 'subscriptions_api_demo',\n",
       "     'credentials': '<REDACTED>'}},\n",
       "   'created': '2022-01-06T16:10:27.963469Z',\n",
       "   '_links': {'_self': 'https://api.planet.com/subscriptions/v1/aff68642-8bc0-4dd3-8c1b-433565e34b6c'},\n",
       "   'status': 'cancelled',\n",
       "   'id': 'aff68642-8bc0-4dd3-8c1b-433565e34b6c',\n",
       "   'updated': '2022-01-06T16:10:41.348194Z'},\n",
       "  {'name': 'Recurring Subscription',\n",
       "   'source': {'type': 'catalog',\n",
       "    'parameters': {'asset_types': ['ortho_analytic_4b'],\n",
       "     'item_types': ['PSScene'],\n",
       "     'geometry': {'coordinates': [[[139.5648193359375, 35.42374884923695],\n",
       "        [140.1031494140625, 35.42374884923695],\n",
       "        [140.1031494140625, 35.77102915686019],\n",
       "        [139.5648193359375, 35.77102915686019],\n",
       "        [139.5648193359375, 35.42374884923695]]],\n",
       "      'type': 'Polygon'},\n",
       "     'start_time': '2021-03-01T00:00:00Z',\n",
       "     'end_time': '2023-11-01T00:00:00Z',\n",
       "     'rrule': 'FREQ=MONTHLY;BYMONTH=3,4,5,6,7,8,9,10'}},\n",
       "   'delivery': {'type': 'google_cloud_storage',\n",
       "    'parameters': {'bucket': 'subscriptions_api_demo',\n",
       "     'credentials': '<REDACTED>'}},\n",
       "   'created': '2022-01-05T23:31:32.296058Z',\n",
       "   '_links': {'_self': 'https://api.planet.com/subscriptions/v1/5a15ccee-0364-4234-97e5-e5ad33aecc4e'},\n",
       "   'status': 'cancelled',\n",
       "   'id': '5a15ccee-0364-4234-97e5-e5ad33aecc4e',\n",
       "   'updated': '2022-01-05T23:31:46.348818Z'},\n",
       "  {'name': 'Recurring Subscription',\n",
       "   'source': {'type': 'catalog',\n",
       "    'parameters': {'asset_types': ['ortho_analytic_4b'],\n",
       "     'item_types': ['PSScene'],\n",
       "     'geometry': {'coordinates': [[[139.5648193359375, 35.42374884923695],\n",
       "        [140.1031494140625, 35.42374884923695],\n",
       "        [140.1031494140625, 35.77102915686019],\n",
       "        [139.5648193359375, 35.77102915686019],\n",
       "        [139.5648193359375, 35.42374884923695]]],\n",
       "      'type': 'Polygon'},\n",
       "     'start_time': '2021-03-01T00:00:00Z',\n",
       "     'end_time': '2023-11-01T00:00:00Z',\n",
       "     'rrule': 'FREQ=MONTHLY;BYMONTH=3,4,5,6,7,8,9,10'}},\n",
       "   'delivery': {'type': 'google_cloud_storage',\n",
       "    'parameters': {'bucket': 'subscriptions_api_demo',\n",
       "     'credentials': '<REDACTED>'}},\n",
       "   'created': '2022-01-05T22:46:01.041155Z',\n",
       "   '_links': {'_self': 'https://api.planet.com/subscriptions/v1/81afff00-1486-412d-a93d-6f35ef7f6626'},\n",
       "   'status': 'cancelled',\n",
       "   'id': '81afff00-1486-412d-a93d-6f35ef7f6626',\n",
       "   'updated': '2022-01-05T22:46:13.349027Z'},\n",
       "  {'name': 'Recurring Subscription',\n",
       "   'source': {'type': 'catalog',\n",
       "    'parameters': {'asset_types': ['ortho_analytic_4b'],\n",
       "     'item_types': ['PSScene'],\n",
       "     'geometry': {'coordinates': [[[139.5648193359375, 35.42374884923695],\n",
       "        [140.1031494140625, 35.42374884923695],\n",
       "        [140.1031494140625, 35.77102915686019],\n",
       "        [139.5648193359375, 35.77102915686019],\n",
       "        [139.5648193359375, 35.42374884923695]]],\n",
       "      'type': 'Polygon'},\n",
       "     'start_time': '2021-03-01T00:00:00Z',\n",
       "     'end_time': '2023-11-01T00:00:00Z',\n",
       "     'rrule': 'FREQ=MONTHLY;BYMONTH=3,4,5,6,7,8,9,10'}},\n",
       "   'delivery': {'type': 'google_cloud_storage',\n",
       "    'parameters': {'bucket': 'subscriptions_api_demo',\n",
       "     'credentials': '<REDACTED>'}},\n",
       "   'created': '2022-01-05T22:45:47.774276Z',\n",
       "   '_links': {'_self': 'https://api.planet.com/subscriptions/v1/11ae4c29-9e5b-46de-9231-e2fd794a6fe0'},\n",
       "   'status': 'cancelled',\n",
       "   'id': '11ae4c29-9e5b-46de-9231-e2fd794a6fe0',\n",
       "   'updated': '2022-01-05T22:46:01.350387Z'},\n",
       "  {'name': 'Recurring Subscription',\n",
       "   'source': {'type': 'catalog',\n",
       "    'parameters': {'asset_types': ['ortho_analytic_4b'],\n",
       "     'item_types': ['PSScene'],\n",
       "     'geometry': {'coordinates': [[[139.5648193359375, 35.42374884923695],\n",
       "        [140.1031494140625, 35.42374884923695],\n",
       "        [140.1031494140625, 35.77102915686019],\n",
       "        [139.5648193359375, 35.77102915686019],\n",
       "        [139.5648193359375, 35.42374884923695]]],\n",
       "      'type': 'Polygon'},\n",
       "     'start_time': '2021-03-01T00:00:00Z',\n",
       "     'end_time': '2023-11-01T00:00:00Z',\n",
       "     'rrule': 'FREQ=MONTHLY;BYMONTH=3,4,5,6,7,8,9,10'}},\n",
       "   'delivery': {'type': 'google_cloud_storage',\n",
       "    'parameters': {'bucket': 'subscriptions_api_demo',\n",
       "     'credentials': '<REDACTED>'}},\n",
       "   'created': '2022-01-05T22:40:40.295507Z',\n",
       "   '_links': {'_self': 'https://api.planet.com/subscriptions/v1/839048d4-06b2-42d0-b550-3a1921a8c18e'},\n",
       "   'status': 'cancelled',\n",
       "   'id': '839048d4-06b2-42d0-b550-3a1921a8c18e',\n",
       "   'updated': '2022-01-05T22:40:53.348301Z'},\n",
       "  {'name': 'Recurring Subscription',\n",
       "   'source': {'type': 'catalog',\n",
       "    'parameters': {'asset_types': ['ortho_analytic_4b'],\n",
       "     'item_types': ['PSScene'],\n",
       "     'geometry': {'coordinates': [[[139.5648193359375, 35.42374884923695],\n",
       "        [140.1031494140625, 35.42374884923695],\n",
       "        [140.1031494140625, 35.77102915686019],\n",
       "        [139.5648193359375, 35.77102915686019],\n",
       "        [139.5648193359375, 35.42374884923695]]],\n",
       "      'type': 'Polygon'},\n",
       "     'start_time': '2021-03-01T00:00:00Z',\n",
       "     'end_time': '2023-11-01T00:00:00Z',\n",
       "     'rrule': 'FREQ=MONTHLY;BYMONTH=3,4,5,6,7,8,9,10'}},\n",
       "   'delivery': {'type': 'google_cloud_storage',\n",
       "    'parameters': {'bucket': 'subscriptions_api_demo',\n",
       "     'credentials': '<REDACTED>'}},\n",
       "   'created': '2022-01-05T22:40:20.11764Z',\n",
       "   '_links': {'_self': 'https://api.planet.com/subscriptions/v1/b936e56f-ac6d-4f00-b05c-9a66edc2aeeb'},\n",
       "   'status': 'cancelled',\n",
       "   'id': 'b936e56f-ac6d-4f00-b05c-9a66edc2aeeb',\n",
       "   'updated': '2022-01-05T22:40:34.348568Z'}]}"
      ]
     },
     "execution_count": 82,
     "metadata": {},
     "output_type": "execute_result"
    }
   ],
   "source": [
    "response = requests.get(subscriptions_url, auth=auth)\n",
    "response.json()"
   ]
  },
  {
   "cell_type": "markdown",
   "id": "d15efccd",
   "metadata": {},
   "source": [
    "You can then easily itterate through them in order to get the `'id'`, `'status'`, or `'end_time'`"
   ]
  },
  {
   "cell_type": "code",
   "execution_count": 83,
   "id": "506040f3",
   "metadata": {},
   "outputs": [
    {
     "name": "stdout",
     "output_type": "stream",
     "text": [
      "284f35d8-1723-4d14-8270-81d7773939b0\n",
      "cancelled\n",
      "2024-03-01T00:00:00Z\n",
      "3ca4297c-1dc2-4b43-ac2b-f7b30c2575b0\n",
      "cancelled\n",
      "2024-03-01T00:00:00Z\n",
      "f27669da-1a25-41e2-8ab5-78defd03eac6\n",
      "cancelled\n",
      "2023-11-01T00:00:00Z\n",
      "aff68642-8bc0-4dd3-8c1b-433565e34b6c\n",
      "cancelled\n",
      "2023-11-01T00:00:00Z\n",
      "5a15ccee-0364-4234-97e5-e5ad33aecc4e\n",
      "cancelled\n",
      "2023-11-01T00:00:00Z\n",
      "81afff00-1486-412d-a93d-6f35ef7f6626\n",
      "cancelled\n",
      "2023-11-01T00:00:00Z\n",
      "11ae4c29-9e5b-46de-9231-e2fd794a6fe0\n",
      "cancelled\n",
      "2023-11-01T00:00:00Z\n",
      "839048d4-06b2-42d0-b550-3a1921a8c18e\n",
      "cancelled\n",
      "2023-11-01T00:00:00Z\n",
      "b936e56f-ac6d-4f00-b05c-9a66edc2aeeb\n",
      "cancelled\n",
      "2023-11-01T00:00:00Z\n"
     ]
    }
   ],
   "source": [
    "response = requests.get(subscriptions_url, auth=auth)\n",
    "for i in range(len(response.json()['subscriptions'])):\n",
    "    print(response.json()['subscriptions'][i]['id'])\n",
    "    print(response.json()['subscriptions'][i]['status'])\n",
    "    print(response.json()['subscriptions'][i]['source']['parameters']['end_time'])"
   ]
  },
  {
   "cell_type": "code",
   "execution_count": null,
   "id": "a8935537",
   "metadata": {},
   "outputs": [],
   "source": []
  }
 ],
 "metadata": {
  "kernelspec": {
   "display_name": "Python 3 (ipykernel)",
   "language": "python",
   "name": "python3"
  },
  "language_info": {
   "codemirror_mode": {
    "name": "ipython",
    "version": 3
   },
   "file_extension": ".py",
   "mimetype": "text/x-python",
   "name": "python",
   "nbconvert_exporter": "python",
   "pygments_lexer": "ipython3",
   "version": "3.9.5"
  }
 },
 "nbformat": 4,
 "nbformat_minor": 5
}
