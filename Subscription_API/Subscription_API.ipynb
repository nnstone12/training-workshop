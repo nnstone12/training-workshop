{
 "cells": [
  {
   "cell_type": "markdown",
   "id": "4f3b9f19",
   "metadata": {},
   "source": [
    "# Subscriptions API Training\n",
    "---"
   ]
  },
  {
   "cell_type": "markdown",
   "id": "ac469138",
   "metadata": {},
   "source": [
    "## Introduction\n",
    "----\n",
    "The Subscriptions API combines the capabilities of Planet Search, Processing, Delivery into a single API. With this API, users can subscribe to continuous delivery of the imagery and metadata, and imagery delivered as soon as its available.\n",
    "\n",
    "\n",
    "This tutorial notebook is an introduction to the Subscriptions API. Using simple Python code, it demonstrates creating, editing, and canceling a subscription. \n",
    "\n",
    "\n",
    "More information can be found in [Subscriptions API Documentation](https://developers.planet.com/docs/subscriptions/) in Planet's Developer Resource Center."
   ]
  },
  {
   "cell_type": "markdown",
   "id": "02d0691b",
   "metadata": {},
   "source": [
    "## Table of Contents\n",
    "\n",
    "1. Imports \n",
    "2. Authentication\n",
    "3. Requests example\n",
    "4. Create a subscription\n",
    "5. Edit a subscription\n",
    "6. Cancel a subscription\n",
    "7. Get info on subscription\n",
    "---"
   ]
  },
  {
   "cell_type": "markdown",
   "id": "b7941ae0",
   "metadata": {},
   "source": [
    "### 1. Import required modules\n",
    "You'll need the following python packages to run this code:"
   ]
  },
  {
   "cell_type": "code",
   "execution_count": 60,
   "id": "2e3263aa",
   "metadata": {},
   "outputs": [],
   "source": [
    "from requests.auth import HTTPBasicAuth\n",
    "import requests\n",
    "import os\n",
    "import json\n",
    "import itertools\n",
    "from datetime import datetime, timedelta, timezone\n",
    "import time\n",
    "import glob\n",
    "import pytz"
   ]
  },
  {
   "cell_type": "markdown",
   "id": "ae7f8ec1",
   "metadata": {},
   "source": [
    "### 2. Authentication\n",
    "\n",
    "Authentication with the Planet Subscription API be achieved using a valid Planet **API key**."
   ]
  },
  {
   "cell_type": "code",
   "execution_count": 61,
   "id": "9371e887",
   "metadata": {},
   "outputs": [],
   "source": [
    "# API Key stored as an env variable or simply replace os.getenv('') by your API key\n",
    "PLANET_API_KEY = os.getenv('PL_API_KEY')"
   ]
  },
  {
   "cell_type": "code",
   "execution_count": 62,
   "id": "18d8c2b5",
   "metadata": {},
   "outputs": [],
   "source": [
    "subscriptions_url = \"https://api.planet.com/subscriptions/v1\""
   ]
  },
  {
   "cell_type": "markdown",
   "id": "f9ab3018",
   "metadata": {},
   "source": [
    "#### Curl Example\n",
    "\n",
    "\n",
    "To check your orders list and make sure you have the permissions you need, uncomment the following line to run ```curl```"
   ]
  },
  {
   "cell_type": "code",
   "execution_count": 63,
   "id": "f31ab718",
   "metadata": {},
   "outputs": [],
   "source": [
    "#!curl -L -H \"Authorization: api-key $PLANET_API_KEY\" $subscriptions_url"
   ]
  },
  {
   "cell_type": "markdown",
   "id": "d6accfef",
   "metadata": {},
   "source": [
    "### 3. Requests example\n",
    "\n",
    "In this notebook, we will be using `requests` to communicate with the Subscriptions API. First, we will check our orders list to make sure authentication and communication is working as expected.\n",
    "\n",
    "We want to get a response code of `200` from this API call. To troubleshoot other response codes, see the [List Orders](https://developers.planet.com/docs/orders/reference/#operation/listOrders) AOI reference.\n",
    "\n",
    "If you recieve a `401` make sure that you correclty entered your API key"
   ]
  },
  {
   "cell_type": "code",
   "execution_count": 64,
   "id": "d4f97d43",
   "metadata": {},
   "outputs": [
    {
     "data": {
      "text/plain": [
       "<Response [200]>"
      ]
     },
     "execution_count": 64,
     "metadata": {},
     "output_type": "execute_result"
    }
   ],
   "source": [
    "auth = HTTPBasicAuth(PLANET_API_KEY, '')\n",
    "response = requests.get(subscriptions_url, auth=auth)\n",
    "response"
   ]
  },
  {
   "cell_type": "markdown",
   "id": "befc3f0d",
   "metadata": {},
   "source": [
    "Now we will list the subscriptions we have created thus far. Your list may be empty if you have not created any subscriptions yet.\n"
   ]
  },
  {
   "cell_type": "code",
   "execution_count": 65,
   "id": "1006f164",
   "metadata": {},
   "outputs": [
    {
     "data": {
      "text/plain": [
       "8"
      ]
     },
     "execution_count": 65,
     "metadata": {},
     "output_type": "execute_result"
    }
   ],
   "source": [
    "subscriptions = response.json()['subscriptions']\n",
    "len(subscriptions)"
   ]
  },
  {
   "cell_type": "markdown",
   "id": "069e6a14",
   "metadata": {},
   "source": [
    "### 4. Creating a Subscription\n",
    "\n",
    "\n",
    "This example creates a subscription that will deliver imagery between March and October for 2021, 2022, and 2023 over Tokyo.\n",
    "\n",
    "In this subscription we request a PSScene of the ortho_analytic_4b asset type. The subscription delivers to google cloud bucket, but other cloud delivery options are explained [Here](https://developers.planet.com/docs/subscriptions/delivery/)"
   ]
  },
  {
   "cell_type": "code",
   "execution_count": 66,
   "id": "11dc73f8",
   "metadata": {},
   "outputs": [],
   "source": [
    "# set content type to json\n",
    "headers = {'content-type': 'application/json'}\n",
    "\n",
    "# set your delivery details\n",
    "BUCKET_NAME = 'name of bucket'\n",
    "GCS_CREDENTIALS= \"credentials string\""
   ]
  },
  {
   "cell_type": "markdown",
   "id": "a304bd85",
   "metadata": {},
   "source": [
    "#### Creating Request"
   ]
  },
  {
   "cell_type": "code",
   "execution_count": 67,
   "id": "43037f31",
   "metadata": {},
   "outputs": [],
   "source": [
    "request = {\n",
    "    \"name\": \"Recurring Subscription\",\n",
    "    \"source\": {\n",
    "        \"type\": \"catalog\",\n",
    "        \"parameters\": {\n",
    "            \"geometry\": {\n",
    "                \"coordinates\": [[[139.5648193359375,35.42374884923695],\n",
    "                                [140.1031494140625,35.42374884923695],\n",
    "                                [140.1031494140625,35.77102915686019],\n",
    "                                [139.5648193359375,35.77102915686019],\n",
    "                                [139.5648193359375,35.42374884923695]]],\n",
    "                \"type\": \"Polygon\"\n",
    "            },\n",
    "            \"start_time\": \"2022-03-01T00:00:00Z\",\n",
    "            \"end_time\": \"2023-11-01T00:00:00Z\",\n",
    "            \"rrule\": \"FREQ=MONTHLY;BYMONTH=3,4,5,6,7,8,9,10\",\n",
    "            \"item_types\": [\"PSScene\"],\n",
    "            \"asset_types\": [\"ortho_analytic_4b\"]\n",
    "        }\n",
    "    },\n",
    "    \"delivery\": { \n",
    "        \"type\": \"google_cloud_storage\",\n",
    "        \"parameters\": {\n",
    "            \"bucket\": BUCKET_NAME,\n",
    "            \"credentials\": GCS_CREDENTIALS,\n",
    "                \n",
    "        }\n",
    "    }\n",
    "}"
   ]
  },
  {
   "cell_type": "code",
   "execution_count": 68,
   "id": "221d453f",
   "metadata": {},
   "outputs": [],
   "source": [
    "def place_subscription(request, auth):\n",
    "    response = requests.post(subscriptions_url, data=json.dumps(request), auth=auth, headers=headers)\n",
    "    print(response)\n",
    "    subscriptions_id = response.json()['id']\n",
    "    print(subscriptions_id)\n",
    "    subscription_url = subscriptions_url + '/' + subscriptions_id\n",
    "    return subscription_url"
   ]
  },
  {
   "cell_type": "markdown",
   "id": "9fa8fa52",
   "metadata": {},
   "source": [
    "If you are getting errors due to your request try replacing print(response) with print(response.json()) to get a better idea of the issue."
   ]
  },
  {
   "cell_type": "code",
   "execution_count": 69,
   "id": "4cfebd2d",
   "metadata": {},
   "outputs": [
    {
     "name": "stdout",
     "output_type": "stream",
     "text": [
      "<Response [200]>\n",
      "284f35d8-1723-4d14-8270-81d7773939b0\n"
     ]
    }
   ],
   "source": [
    "subscription_url = place_subscription(request, auth)"
   ]
  },
  {
   "cell_type": "markdown",
   "id": "727e6e13",
   "metadata": {},
   "source": [
    "### 5. Edit a Subscription\n",
    "\n",
    "When a subscription is in `pending` state, it may be edited in full. After the subscription transitions to `running`, the following source block edits will be disallowed:\n",
    "\n",
    "  * Changes to `item_types`\n",
    "  * Changes to `start_time` values\n",
    "\n",
    "If you want to use access a different subscription you can use step <b>7. Get Info on Subscription</b> to print the ID's and paste those into the url"
   ]
  },
  {
   "cell_type": "code",
   "execution_count": 70,
   "id": "5b2f2fc3",
   "metadata": {},
   "outputs": [
    {
     "data": {
      "text/plain": [
       "'preparing'"
      ]
     },
     "execution_count": 70,
     "metadata": {},
     "output_type": "execute_result"
    }
   ],
   "source": [
    "# report order state\n",
    "#subscription_url = \"https://api.planet.com/subscriptions/v1/SUB_ID\"\n",
    "requests.get(subscription_url, auth=auth).json()['status']"
   ]
  },
  {
   "cell_type": "markdown",
   "id": "a7bce4b6",
   "metadata": {},
   "source": [
    "Check the perameters that you wish to edit, in this case the `\"end_time\"`"
   ]
  },
  {
   "cell_type": "code",
   "execution_count": 71,
   "id": "2e9c4872",
   "metadata": {},
   "outputs": [
    {
     "name": "stdout",
     "output_type": "stream",
     "text": [
      "2023-11-01T00:00:00Z\n"
     ]
    }
   ],
   "source": [
    "print(request[\"source\"][\"parameters\"][\"end_time\"])\n",
    "with open('data.json', 'w') as f:\n",
    "    json.dump(request, f)"
   ]
  },
  {
   "cell_type": "markdown",
   "id": "bfde2a02",
   "metadata": {},
   "source": [
    "In this case lets edit the `\"end_time\"` of our request to 2024"
   ]
  },
  {
   "cell_type": "code",
   "execution_count": 72,
   "id": "67256e87",
   "metadata": {},
   "outputs": [
    {
     "data": {
      "text/plain": [
       "<Response [200]>"
      ]
     },
     "execution_count": 72,
     "metadata": {},
     "output_type": "execute_result"
    }
   ],
   "source": [
    "# PUT https://api.planet.com/subscriptions/v1/<subscription_id>\n",
    "request[\"source\"][\"parameters\"][\"end_time\"] = '2024-03-01T00:00:00Z'\n",
    "response = requests.put(subscription_url, json=request, auth=auth)\n",
    "response"
   ]
  },
  {
   "cell_type": "code",
   "execution_count": 78,
   "id": "1b1f465c",
   "metadata": {},
   "outputs": [
    {
     "data": {
      "text/plain": [
       "'2024-03-01T00:00:00Z'"
      ]
     },
     "execution_count": 78,
     "metadata": {},
     "output_type": "execute_result"
    }
   ],
   "source": [
    "response.json()[\"source\"][\"parameters\"][\"end_time\"]"
   ]
  },
  {
   "cell_type": "markdown",
   "id": "e6e7c6b0",
   "metadata": {},
   "source": [
    "### 6. Cancel a Subscription\n",
    "\n",
    "If you want to use access a different subscription you can use step <b>7. Get Info on Subscription</b> to print the ID's and paste those into the url"
   ]
  },
  {
   "cell_type": "code",
   "execution_count": 79,
   "id": "52214571",
   "metadata": {},
   "outputs": [
    {
     "name": "stdout",
     "output_type": "stream",
     "text": [
      "https://api.planet.com/subscriptions/v1/284f35d8-1723-4d14-8270-81d7773939b0\n"
     ]
    },
    {
     "data": {
      "text/plain": [
       "'pending'"
      ]
     },
     "execution_count": 79,
     "metadata": {},
     "output_type": "execute_result"
    }
   ],
   "source": [
    "# report order state\n",
    "#subscription_url = \"https://api.planet.com/subscriptions/v1/SUB_ID\"\n",
    "print(subscription_url)\n",
    "requests.get(subscription_url, auth=auth).json()['status']"
   ]
  },
  {
   "cell_type": "code",
   "execution_count": 80,
   "id": "cbe7c705",
   "metadata": {},
   "outputs": [
    {
     "data": {
      "text/plain": [
       "<Response [200]>"
      ]
     },
     "execution_count": 80,
     "metadata": {},
     "output_type": "execute_result"
    }
   ],
   "source": [
    "# POST https://api.planet.com/subscriptions/v1/<subscription_id>/cancel\n",
    "cancel_url = subscription_url + \"/cancel\"\n",
    "response = requests.post(cancel_url, auth=auth)\n",
    "response\n"
   ]
  },
  {
   "cell_type": "code",
   "execution_count": 81,
   "id": "84d5df0b",
   "metadata": {},
   "outputs": [
    {
     "data": {
      "text/plain": [
       "'cancelled'"
      ]
     },
     "execution_count": 81,
     "metadata": {},
     "output_type": "execute_result"
    }
   ],
   "source": [
    "# report order state - it could take a little while to cancel\n",
    "requests.get(subscription_url, auth=auth).json()['status']"
   ]
  },
  {
   "cell_type": "markdown",
   "id": "2ff2d886",
   "metadata": {},
   "source": [
    "### 7. Get Info on Subscriptions\n",
    "\n",
    "By placing a get command you will print all of your subscriptions. "
   ]
  },
  {
   "cell_type": "code",
   "execution_count": 84,
   "id": "919ccfdd",
   "metadata": {},
   "outputs": [],
   "source": [
    "response = requests.get(subscriptions_url, auth=auth)\n",
    "response.json()"
   ]
  },
  {
   "cell_type": "markdown",
   "id": "d15efccd",
   "metadata": {},
   "source": [
    "You can then easily itterate through them in order to get the `'id'`, `'status'`, or `'end_time'`"
   ]
  },
  {
   "cell_type": "code",
   "execution_count": 85,
   "id": "506040f3",
   "metadata": {},
   "outputs": [],
   "source": [
    "response = requests.get(subscriptions_url, auth=auth)\n",
    "for i in range(len(response.json()['subscriptions'])):\n",
    "    print(response.json()['subscriptions'][i]['id'])\n",
    "    print(response.json()['subscriptions'][i]['status'])\n",
    "    print(response.json()['subscriptions'][i]['source']['parameters']['end_time'])"
   ]
  },
  {
   "cell_type": "code",
   "execution_count": null,
   "id": "a8935537",
   "metadata": {},
   "outputs": [],
   "source": []
  }
 ],
 "metadata": {
  "kernelspec": {
   "display_name": "Python 3 (ipykernel)",
   "language": "python",
   "name": "python3"
  },
  "language_info": {
   "codemirror_mode": {
    "name": "ipython",
    "version": 3
   },
   "file_extension": ".py",
   "mimetype": "text/x-python",
   "name": "python",
   "nbconvert_exporter": "python",
   "pygments_lexer": "ipython3",
   "version": "3.9.5"
  }
 },
 "nbformat": 4,
 "nbformat_minor": 5
}
