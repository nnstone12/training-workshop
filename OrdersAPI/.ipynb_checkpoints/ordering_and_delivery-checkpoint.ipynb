{
 "cells": [
  {
   "cell_type": "markdown",
   "metadata": {},
   "source": [
    "# Ordering and Delivery\n",
    "\n",
    "This notebook demonstrates ordering and download with the orders api. In this notebook, we check authentication by requesting an orders list, then we create an order for two Analytic `PSScene4Band` images. We poll for order success then download images individually. And finally, we create, poll, and download the same order delivered as a single zip file.\n",
    "\n",
    "Reference information can be found at [Ordering & Delivery](https://developers.planet.com/docs/orders/ordering-delivery/)."
   ]
  },
  {
   "cell_type": "code",
   "execution_count": null,
   "metadata": {},
   "outputs": [],
   "source": [
    "import json\n",
    "import os\n",
    "import pathlib\n",
    "import time\n",
    "\n",
    "import requests\n",
    "from requests.auth import HTTPBasicAuth"
   ]
  },
  {
   "cell_type": "markdown",
   "metadata": {},
   "source": [
    "## Authenticating"
   ]
  },
  {
   "cell_type": "code",
   "execution_count": null,
   "metadata": {},
   "outputs": [],
   "source": [
    "# API Key stored as an env variable\n",
    "PLANET_API_KEY = \"\" # os.getenv('PL_API_KEY')"
   ]
  },
  {
   "cell_type": "code",
   "execution_count": null,
   "metadata": {},
   "outputs": [],
   "source": [
    "orders_url = 'https://api.planet.com/compute/ops/orders/v2'"
   ]
  },
  {
   "cell_type": "markdown",
   "metadata": {},
   "source": [
    "### Curl example\n",
    "\n",
    "To check your orders list and make sure you have the permissions you need, uncomment the following line to run `curl`"
   ]
  },
  {
   "cell_type": "code",
   "execution_count": null,
   "metadata": {},
   "outputs": [],
   "source": [
    "# !curl -L -H \"Authorization: api-key $PLANET_API_KEY\" $orders_url"
   ]
  },
  {
   "cell_type": "markdown",
   "metadata": {},
   "source": [
    "### Requests example\n",
    "\n",
    "In this notebook, we will be using `requests` to communicate with the orders v2 API. First, we will check our orders list to make sure authentication and communication is working as expected.\n",
    "\n",
    "We want to get a response code of `200` from this API call. To troubleshoot other response codes, see the [List Orders](https://developers.planet.com/docs/orders/reference/#operation/listOrders) AOI reference."
   ]
  },
  {
   "cell_type": "code",
   "execution_count": null,
   "metadata": {},
   "outputs": [],
   "source": [
    "auth = HTTPBasicAuth(PLANET_API_KEY, '')\n",
    "response = requests.get(orders_url, auth=auth)\n",
    "response"
   ]
  },
  {
   "cell_type": "markdown",
   "metadata": {},
   "source": [
    "Now we will list the orders we have created thus far. Your list may be empty if you have not created an order yet."
   ]
  },
  {
   "cell_type": "code",
   "execution_count": null,
   "metadata": {},
   "outputs": [],
   "source": [
    "orders = response.json()['orders']\n",
    "len(orders)"
   ]
  },
  {
   "cell_type": "markdown",
   "metadata": {},
   "source": [
    "## Ordering\n",
    "\n",
    "In this example, we will order two `PSScene4Band` analytic images. For variations on this kind of order, see [Ordering Data](https://developers.planet.com/docs/orders/ordering-delivery/#ordering-data_1).\n",
    "\n",
    "In this order, we request an `analytic` bundle. A bundle is a group of assets for an item. The `analytic` bundle for the  `PSScene4Band` item contains 3 assets: the analytic image, the analytic xml file, and the udm. See the [Product bundles reference](https://developers.planet.com/docs/orders/product-bundles-reference/) to learn about other bundles and other items.\n",
    "\n",
    "### Place Order"
   ]
  },
  {
   "cell_type": "code",
   "execution_count": null,
   "metadata": {},
   "outputs": [],
   "source": [
    "# set content type to json\n",
    "headers = {'content-type': 'application/json'}"
   ]
  },
  {
   "cell_type": "code",
   "execution_count": null,
   "metadata": {},
   "outputs": [],
   "source": [
    "request = {  \n",
    "   \"name\":\"simple order\",\n",
    "   \"products\":[\n",
    "      {  \n",
    "         \"item_ids\":[  \n",
    "            \"20220829_162656_60_2477\",\"20220829_155244_57_245c\",\"20220829_155242_27_245c\",\"20220828_164101_05_240c\",\"20220827_154949_98_2423\",\"20220826_154814_93_2449\",\"20220825_163910_48_2402\",\"20220824_162410_19_247e\",\"20220824_163655_57_2416\",\"20220823_155303_61_241d\",\"20220821_162733_91_2481\",\"20220821_162731_64_2481\",\"20220821_162428_30_247f\",\"20220820_164317_62_2402\",\"20220819_164033_40_2403\",\"20220819_164031_12_2403\",\"20220817_155424_91_2439\",\"20220816_155017_64_2429\",\"20220812_162512_97_247a\",\"20220811_154843_68_241b\",\"20220811_162522_94_247d\",\"20220811_162520_66_247d\",\"20220811_162238_83_2485\",\"20220810_155108_62_2451\",\"20220810_155106_35_2451\",\"20220810_162544_13_2461\",\"20220805_163833_68_240a\",\"20220804_163650_60_2424\",\"20220804_164017_91_240c\",\"20220804_164015_65_240c\",\"20220803_162358_85_2483\",\"20220803_162401_13_2483\",\"20220801_162251_92_247f\",\"20220731_155115_81_2440\",\"20220730_154643_11_2445\",\"20220730_155211_55_2448\",\"20220729_155107_82_241d\",\"20220728_155158_35_2459\",\"20220720_162409_84_249a\",\"20220719_162705_44_2479\",\"20220719_162703_16_2479\",\"20220719_155358_94_2421\",\"20220718_162657_23_2474\",\"20220718_162659_50_2474\",\"20220716_163908_63_241c\",\"20220714_155104_43_2460\",\"20220714_154830_74_2423\",\"20220713_162306_68_2477\",\"20220712_162403_86_2488\",\"20220712_162401_57_2488\",\"20220711_164038_46_2403\",\"20220710_163909_07_2274\",\"20220710_163911_37_2274\",\"20220709_162756_87_2475\",\"20220709_162754_60_2475\",\"20220709_155435_65_241e\",\"20220705_162514_89_2488\",\"20220703_155429_22_241f\",\"20220703_155426_93_241f\",\"20220630_162708_48_2461\",\"20220630_154925_53_2457\",\"20220629_162707_83_247b\",\"20220628_162556_63_2488\",\"20220627_162358_81_2480\",\"20220625_164115_26_2414\",\"20220625_164112_97_2414\",\"20220624_155151_07_242b\",\"20220621_162323_72_249d\",\"20220621_162553_56_2482\",\"20220620_162409_63_2480\",\"20220620_162600_94_2492\",\"20220619_155034_13_2455\",\"20220618_164157_70_2405\",\"20220617_154807_70_2457\",\"20220616_155517_49_2465\",\"20220615_162252_40_24a4\",\"20220615_162250_08_24a4\",\"20220614_162514_85_2482\",\"20220602_162246_21_2489\",\"20220531_162607_62_247c\",\"20220531_155340_37_241f\",\"20220531_155338_07_241f\",\"20220529_155546_20_2427\",\"20220529_155024_33_2460\",\"20220529_155022_03_2460\",\"20220528_162712_69_249c\",\"20220526_162353_08_2461\",\"20220524_162718_19_2438\",\"20220523_155424_57_245d\",\"20220523_155422_28_245d\",\"20220522_162546_30_248f\",\"20220520_155257_51_2428\",\"20220518_155438_62_2439\",\"20220517_164033_28_2254\",\"20220516_154927_38_2463\",\"20220516_154925_08_2463\",\"20220516_161717_72_222f\",\"20220515_162610_88_2473\",\"20220513_155203_32_2440\",\"20220513_155201_02_2440\",\"20220512_162528_29_2499\",\"20220512_162416_81_247d\",\"20220511_155552_36_2439\",\"20220510_162344_94_247b\",\"20220510_162347_23_247b\",\"20220509_155733_00_220b\",\"20220508_162435_49_2480\",\"20220504_155558_34_2439\",\"20220502_155048_02_2463\",\"20220430_155443_50_2457\",\"20220430_163849_21_2403\",\"20220427_162302_78_247d\",\"20220425_155512_31_2434\",\"20220426_162350_1008\",\"20220423_160817_14_225a\",\"20220423_154944_68_1065\",\"20220423_154943_18_1065\",\"20220422_155235_60_2440\",\"20220421_173237_67_105e\",\"20220421_164503_55_2405\",\"20220421_164505_84_2405\",\"20220419_155135_93_2451\",\"20220419_155156_58_241e\",\"20220416_163910_35_2274\",\"20220221_162320_69_249b\",\"20220220_162835_37_2483\",\"20220410_155201_55_2460\",\"20220409_162349_71_2495\",\"20220407_163859_99_2254\",\"20220406_164146_34_241c\",\"20220405_155258_73_241f\",\"20220125_162834_00_2485\",\"20220212_162450_92_2485\",\"20220403_163840_81_240a\",\"20220403_163838_46_240a\",\"20220402_155416_36_242b\",\"20220401_155145_77_2420\",\"20220328_155025_70_1067\",\"20220328_155027_20_1067\",\"20220210_162636_33_247f\",\"20220326_164317_28_227c\",\"20220326_162027_1_1025\",\"20220325_155443_94_2457\",\"20220321_172556_67_1064\",\"20220321_172555_17_1064\",\"20220212_162353_03_24a5\",\"20220317_155301_05_2449\",\"20220317_155258_75_2449\",\"20220316_161925_1025\",\"20220317_162239_1035\",\"20220317_162240_1035\",\"20220315_162247_80_247f\",\"20220315_162250_13_247f\",\"20220314_162607_94_2475\",\"20220313_192511_0f4c\",\"20220312_155243_42_2463\",\"20220312_155245_72_2463\",\"20220310_155251_70_2421\",\"20220308_162254_1010\",\"20220309_155653_11_2212\",\"20220309_162804_26_2446\",\"20220302_164527_19_2407\",\"20220302_162259_59_248b\",\"20220309_162153_1003\",\"20220301_160846_86_225a\",\"20220226_162834_53_2484\",\"20220306_155716_18_241d\",\"20220304_162251_1040\",\"20220303_162230_1002\",\"20220301_162324_30_2446\",\"20220228_155523_87_2464\",\"20220228_165135_1105\",\"20220227_162128_1025\",\"20220227_155605_46_2439\",\"20220226_162504_79_2475\",\"20220219_162438_12_2438\",\"20220221_162056_100a\",\"20220221_163850_75_227b\",\"20220220_161956_1003\",\"20220220_161957_1003\",\"20220220_155238_99_2435\",\"20220219_161335_40_2231\",\"20220215_164024_26_2403\",\"20220215_155459_42_2421\",\"20220215_164026_55_2403\",\"20220214_155826_29_2465\",\"20220212_162009_1014\",\"20220212_155254_10_241b\",\"20220210_155301_04_2455\",\"20220209_155630_63_2430\",\"20220209_155326_0e26\",\"20220207_155830_10_2421\",\"20220207_155827_80_2421\",\"20220206_192455_0f4c\"\n",
    "         ],\n",
    "         \"item_type\":\"PSScene\",\n",
    "         \"product_bundle\": \"visual\"\n",
    "      }\n",
    "   ],\n",
    "}"
   ]
  },
  {
   "cell_type": "code",
   "execution_count": null,
   "metadata": {},
   "outputs": [],
   "source": [
    "def place_order(request, auth):\n",
    "    response = requests.post(orders_url, data=json.dumps(request), auth=auth, headers=headers)\n",
    "    if response.status_code > 299:\n",
    "        print(response.text)\n",
    "    order_id = response.json()['id']\n",
    "    print(order_id)\n",
    "    order_url = orders_url + '/' + order_id\n",
    "    return order_url"
   ]
  },
  {
   "cell_type": "code",
   "execution_count": null,
   "metadata": {},
   "outputs": [],
   "source": [
    "order_url = place_order(request, auth)"
   ]
  },
  {
   "cell_type": "markdown",
   "metadata": {},
   "source": [
    "### Cancel an Order"
   ]
  },
  {
   "cell_type": "code",
   "execution_count": null,
   "metadata": {},
   "outputs": [],
   "source": [
    "# report order state\n",
    "requests.get(order_url, auth=auth).json()['state']"
   ]
  },
  {
   "cell_type": "code",
   "execution_count": null,
   "metadata": {},
   "outputs": [],
   "source": [
    "oid = oids[0]\n",
    "response = requests.put(order_url, auth=auth)\n",
    "response"
   ]
  },
  {
   "cell_type": "code",
   "execution_count": null,
   "metadata": {},
   "outputs": [],
   "source": [
    "# report order state - it could take a little while to cancel\n",
    "requests.get(order_url, auth=auth).json()['state']"
   ]
  },
  {
   "cell_type": "markdown",
   "metadata": {},
   "source": [
    "### Poll for Order Success"
   ]
  },
  {
   "cell_type": "code",
   "execution_count": null,
   "metadata": {},
   "outputs": [],
   "source": [
    "# re-order since we canceled our last order\n",
    "order_url = place_order(request, auth)"
   ]
  },
  {
   "cell_type": "code",
   "execution_count": null,
   "metadata": {},
   "outputs": [],
   "source": [
    "def poll_for_success(order_url, auth, num_loops=30):\n",
    "    count = 0\n",
    "    while(count < num_loops):\n",
    "        count += 1\n",
    "        r = requests.get(order_url, auth=auth)\n",
    "        response = r.json()\n",
    "        state = response['state']\n",
    "        print(state)\n",
    "        end_states = ['success', 'failed', 'partial']\n",
    "        if state in end_states:\n",
    "            break\n",
    "        time.sleep(2)\n",
    "        \n",
    "poll_for_success(order_url, auth)"
   ]
  },
  {
   "cell_type": "markdown",
   "metadata": {},
   "source": [
    "### View Results"
   ]
  },
  {
   "cell_type": "code",
   "execution_count": null,
   "metadata": {
    "scrolled": false
   },
   "outputs": [],
   "source": [
    "r = requests.get(order_url, auth=auth)\n",
    "response = r.json()\n",
    "results = response['_links']['results']"
   ]
  },
  {
   "cell_type": "code",
   "execution_count": null,
   "metadata": {},
   "outputs": [],
   "source": [
    "[r['name'] for r in results]"
   ]
  },
  {
   "cell_type": "markdown",
   "metadata": {},
   "source": [
    "## Download\n",
    "\n",
    "### Downloading each asset individually"
   ]
  },
  {
   "cell_type": "code",
   "execution_count": null,
   "metadata": {},
   "outputs": [],
   "source": [
    "def download_results(results, overwrite=False):\n",
    "    results_urls = [r['location'] for r in results]\n",
    "    results_names = [r['name'] for r in results]\n",
    "    print('{} items to download'.format(len(results_urls)))\n",
    "    \n",
    "    for url, name in zip(results_urls, results_names):\n",
    "        path = pathlib.Path(os.path.join('data', name))\n",
    "        \n",
    "        if overwrite or not path.exists():\n",
    "            print('downloading {} to {}'.format(name, path))\n",
    "            r = requests.get(url, allow_redirects=True)\n",
    "            path.parent.mkdir(parents=True, exist_ok=True)\n",
    "            open(path, 'wb').write(r.content)\n",
    "        else:\n",
    "            print('{} already exists, skipping {}'.format(path, name))"
   ]
  },
  {
   "cell_type": "code",
   "execution_count": null,
   "metadata": {},
   "outputs": [],
   "source": [
    "download_results(results)"
   ]
  },
  {
   "cell_type": "markdown",
   "metadata": {},
   "source": [
    "### Downloading as a single zip\n",
    "\n",
    "To download all of the order assets as a single zip, the order request needs to be changed slightly with delivery instructions. After that, polling and downloading are the same."
   ]
  },
  {
   "cell_type": "code",
   "execution_count": null,
   "metadata": {},
   "outputs": [],
   "source": [
    "zip_delivery = {\"delivery\": {\"single_archive\": True, \"archive_type\": \"zip\"}}\n",
    "request_zip = request.copy()\n",
    "request_zip.update(zip_delivery)\n",
    "request_zip"
   ]
  },
  {
   "cell_type": "code",
   "execution_count": null,
   "metadata": {},
   "outputs": [],
   "source": [
    "order_url = place_order(request_zip, auth)"
   ]
  },
  {
   "cell_type": "code",
   "execution_count": null,
   "metadata": {},
   "outputs": [],
   "source": [
    "poll_for_success(order_url, auth)"
   ]
  },
  {
   "cell_type": "code",
   "execution_count": null,
   "metadata": {},
   "outputs": [],
   "source": [
    "r = requests.get(order_url, auth=auth)\n",
    "response = r.json()\n",
    "results = response['_links']['results']"
   ]
  },
  {
   "cell_type": "code",
   "execution_count": null,
   "metadata": {},
   "outputs": [],
   "source": [
    "download_results(results)"
   ]
  }
 ],
 "metadata": {
  "kernelspec": {
   "display_name": "Python 3 (ipykernel)",
   "language": "python",
   "name": "python3"
  },
  "language_info": {
   "codemirror_mode": {
    "name": "ipython",
    "version": 3
   },
   "file_extension": ".py",
   "mimetype": "text/x-python",
   "name": "python",
   "nbconvert_exporter": "python",
   "pygments_lexer": "ipython3",
   "version": "3.10.4"
  }
 },
 "nbformat": 4,
 "nbformat_minor": 2
}
